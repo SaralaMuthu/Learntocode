{
  "nbformat": 4,
  "nbformat_minor": 0,
  "metadata": {
    "colab": {
      "provenance": [],
      "authorship_tag": "ABX9TyMBbUkk7rfKipMhFFMIeoUc",
      "include_colab_link": true
    },
    "kernelspec": {
      "name": "python3",
      "display_name": "Python 3"
    },
    "language_info": {
      "name": "python"
    }
  },
  "cells": [
    {
      "cell_type": "markdown",
      "metadata": {
        "id": "view-in-github",
        "colab_type": "text"
      },
      "source": [
        "<a href=\"https://colab.research.google.com/github/SaralaMuthu/Learntocode/blob/master/BPDClassification.ipynb\" target=\"_parent\"><img src=\"https://colab.research.google.com/assets/colab-badge.svg\" alt=\"Open In Colab\"/></a>"
      ]
    },
    {
      "cell_type": "code",
      "source": [
        "import numpy as np # linear algebra\n",
        "import pandas as pd # data processing, CSV file I/O (e.g. pd.read_csv)\n",
        "\n",
        "df=pd.read_csv(\"/content/FSFinal.csv\",delimiter=',',engine='python')\n",
        "print(df.shape)\n",
        "X=df.T\n",
        "print(X.shape)\n",
        "X.head()\n",
        "X.to_csv(\"test.csv\", sep=',' ,header=None,index=False)"
      ],
      "metadata": {
        "colab": {
          "base_uri": "https://localhost:8080/"
        },
        "id": "sW-OjXeJ962k",
        "outputId": "cfcf8806-f811-4462-bafa-d2a1c9876ddd"
      },
      "execution_count": 1,
      "outputs": [
        {
          "output_type": "stream",
          "name": "stdout",
          "text": [
            "(4, 89)\n",
            "(89, 4)\n"
          ]
        }
      ]
    },
    {
      "cell_type": "code",
      "source": [
        "d=pd.read_csv(\"/content/test.csv\",delimiter=',',engine='python')\n",
        "print(d.shape)\n",
        "d.head()"
      ],
      "metadata": {
        "colab": {
          "base_uri": "https://localhost:8080/",
          "height": 224
        },
        "id": "4Nacah72-qQd",
        "outputId": "a8e56186-b92c-401c-b244-1fc4f2058788"
      },
      "execution_count": 2,
      "outputs": [
        {
          "output_type": "stream",
          "name": "stdout",
          "text": [
            "(88, 4)\n"
          ]
        },
        {
          "output_type": "execute_result",
          "data": {
            "text/plain": [
              "   1007_s_at  216437_at  AFFX-TrpnX-M_at  Class\n",
              "0   6.781245   3.228003         3.324930    1.0\n",
              "1   7.105540   3.575426         3.255630    1.0\n",
              "2   7.176201   3.469738         3.221442    2.0\n",
              "3   6.910155   3.487376         3.302892    2.0\n",
              "4   7.229103   3.426819         3.339504    1.0"
            ],
            "text/html": [
              "\n",
              "  <div id=\"df-5e51388f-3b25-4053-b864-fa6bca5bbac2\">\n",
              "    <div class=\"colab-df-container\">\n",
              "      <div>\n",
              "<style scoped>\n",
              "    .dataframe tbody tr th:only-of-type {\n",
              "        vertical-align: middle;\n",
              "    }\n",
              "\n",
              "    .dataframe tbody tr th {\n",
              "        vertical-align: top;\n",
              "    }\n",
              "\n",
              "    .dataframe thead th {\n",
              "        text-align: right;\n",
              "    }\n",
              "</style>\n",
              "<table border=\"1\" class=\"dataframe\">\n",
              "  <thead>\n",
              "    <tr style=\"text-align: right;\">\n",
              "      <th></th>\n",
              "      <th>1007_s_at</th>\n",
              "      <th>216437_at</th>\n",
              "      <th>AFFX-TrpnX-M_at</th>\n",
              "      <th>Class</th>\n",
              "    </tr>\n",
              "  </thead>\n",
              "  <tbody>\n",
              "    <tr>\n",
              "      <th>0</th>\n",
              "      <td>6.781245</td>\n",
              "      <td>3.228003</td>\n",
              "      <td>3.324930</td>\n",
              "      <td>1.0</td>\n",
              "    </tr>\n",
              "    <tr>\n",
              "      <th>1</th>\n",
              "      <td>7.105540</td>\n",
              "      <td>3.575426</td>\n",
              "      <td>3.255630</td>\n",
              "      <td>1.0</td>\n",
              "    </tr>\n",
              "    <tr>\n",
              "      <th>2</th>\n",
              "      <td>7.176201</td>\n",
              "      <td>3.469738</td>\n",
              "      <td>3.221442</td>\n",
              "      <td>2.0</td>\n",
              "    </tr>\n",
              "    <tr>\n",
              "      <th>3</th>\n",
              "      <td>6.910155</td>\n",
              "      <td>3.487376</td>\n",
              "      <td>3.302892</td>\n",
              "      <td>2.0</td>\n",
              "    </tr>\n",
              "    <tr>\n",
              "      <th>4</th>\n",
              "      <td>7.229103</td>\n",
              "      <td>3.426819</td>\n",
              "      <td>3.339504</td>\n",
              "      <td>1.0</td>\n",
              "    </tr>\n",
              "  </tbody>\n",
              "</table>\n",
              "</div>\n",
              "      <button class=\"colab-df-convert\" onclick=\"convertToInteractive('df-5e51388f-3b25-4053-b864-fa6bca5bbac2')\"\n",
              "              title=\"Convert this dataframe to an interactive table.\"\n",
              "              style=\"display:none;\">\n",
              "        \n",
              "  <svg xmlns=\"http://www.w3.org/2000/svg\" height=\"24px\"viewBox=\"0 0 24 24\"\n",
              "       width=\"24px\">\n",
              "    <path d=\"M0 0h24v24H0V0z\" fill=\"none\"/>\n",
              "    <path d=\"M18.56 5.44l.94 2.06.94-2.06 2.06-.94-2.06-.94-.94-2.06-.94 2.06-2.06.94zm-11 1L8.5 8.5l.94-2.06 2.06-.94-2.06-.94L8.5 2.5l-.94 2.06-2.06.94zm10 10l.94 2.06.94-2.06 2.06-.94-2.06-.94-.94-2.06-.94 2.06-2.06.94z\"/><path d=\"M17.41 7.96l-1.37-1.37c-.4-.4-.92-.59-1.43-.59-.52 0-1.04.2-1.43.59L10.3 9.45l-7.72 7.72c-.78.78-.78 2.05 0 2.83L4 21.41c.39.39.9.59 1.41.59.51 0 1.02-.2 1.41-.59l7.78-7.78 2.81-2.81c.8-.78.8-2.07 0-2.86zM5.41 20L4 18.59l7.72-7.72 1.47 1.35L5.41 20z\"/>\n",
              "  </svg>\n",
              "      </button>\n",
              "      \n",
              "  <style>\n",
              "    .colab-df-container {\n",
              "      display:flex;\n",
              "      flex-wrap:wrap;\n",
              "      gap: 12px;\n",
              "    }\n",
              "\n",
              "    .colab-df-convert {\n",
              "      background-color: #E8F0FE;\n",
              "      border: none;\n",
              "      border-radius: 50%;\n",
              "      cursor: pointer;\n",
              "      display: none;\n",
              "      fill: #1967D2;\n",
              "      height: 32px;\n",
              "      padding: 0 0 0 0;\n",
              "      width: 32px;\n",
              "    }\n",
              "\n",
              "    .colab-df-convert:hover {\n",
              "      background-color: #E2EBFA;\n",
              "      box-shadow: 0px 1px 2px rgba(60, 64, 67, 0.3), 0px 1px 3px 1px rgba(60, 64, 67, 0.15);\n",
              "      fill: #174EA6;\n",
              "    }\n",
              "\n",
              "    [theme=dark] .colab-df-convert {\n",
              "      background-color: #3B4455;\n",
              "      fill: #D2E3FC;\n",
              "    }\n",
              "\n",
              "    [theme=dark] .colab-df-convert:hover {\n",
              "      background-color: #434B5C;\n",
              "      box-shadow: 0px 1px 3px 1px rgba(0, 0, 0, 0.15);\n",
              "      filter: drop-shadow(0px 1px 2px rgba(0, 0, 0, 0.3));\n",
              "      fill: #FFFFFF;\n",
              "    }\n",
              "  </style>\n",
              "\n",
              "      <script>\n",
              "        const buttonEl =\n",
              "          document.querySelector('#df-5e51388f-3b25-4053-b864-fa6bca5bbac2 button.colab-df-convert');\n",
              "        buttonEl.style.display =\n",
              "          google.colab.kernel.accessAllowed ? 'block' : 'none';\n",
              "\n",
              "        async function convertToInteractive(key) {\n",
              "          const element = document.querySelector('#df-5e51388f-3b25-4053-b864-fa6bca5bbac2');\n",
              "          const dataTable =\n",
              "            await google.colab.kernel.invokeFunction('convertToInteractive',\n",
              "                                                     [key], {});\n",
              "          if (!dataTable) return;\n",
              "\n",
              "          const docLinkHtml = 'Like what you see? Visit the ' +\n",
              "            '<a target=\"_blank\" href=https://colab.research.google.com/notebooks/data_table.ipynb>data table notebook</a>'\n",
              "            + ' to learn more about interactive tables.';\n",
              "          element.innerHTML = '';\n",
              "          dataTable['output_type'] = 'display_data';\n",
              "          await google.colab.output.renderOutput(dataTable, element);\n",
              "          const docLink = document.createElement('div');\n",
              "          docLink.innerHTML = docLinkHtml;\n",
              "          element.appendChild(docLink);\n",
              "        }\n",
              "      </script>\n",
              "    </div>\n",
              "  </div>\n",
              "  "
            ]
          },
          "metadata": {},
          "execution_count": 2
        }
      ]
    },
    {
      "cell_type": "code",
      "execution_count": 3,
      "metadata": {
        "id": "zcryJso9866h"
      },
      "outputs": [],
      "source": [
        "from pandas import read_csv\n",
        "from sklearn.model_selection import KFold, GridSearchCV\n",
        "from sklearn.model_selection import cross_val_score\n",
        "from sklearn.model_selection import cross_val_predict\n",
        "from sklearn.discriminant_analysis import LinearDiscriminantAnalysis\n",
        "array = read_csv(\"test.csv\").values\n",
        "X = array[:,:-1]\n",
        "Y = array[:,-1]\n",
        "from sklearn.ensemble import RandomForestClassifier\n",
        "from sklearn.linear_model import LogisticRegression\n",
        "from sklearn.naive_bayes import MultinomialNB\n",
        "from sklearn.neighbors import KNeighborsClassifier\n",
        "from sklearn.svm import SVC\n"
      ]
    },
    {
      "cell_type": "code",
      "source": [
        "lda = LinearDiscriminantAnalysis(n_components=None, priors=None, shrinkage=None,\n",
        "              solver='eigen', store_covariance=False, tol=0.0001)\n",
        "print(lda)\n",
        "rf = RandomForestClassifier(n_estimators=10)\n",
        "svm = SVC()\n",
        "parameters = {'kernel':('linear', 'rbf'), 'C':(1,0.25,0.5,0.75),'gamma': (1,2,3,'auto'),'decision_function_shape':('ovo','ovr'),'shrinking':(True,False)}\n",
        "clf = GridSearchCV(svm, parameters)\n",
        "clf.fit(X,Y)\n",
        "import numpy as np\n",
        "print(\"accuracy:\"+str(np.average(cross_val_score(clf, X, Y, scoring='accuracy'))))\n",
        "print(\"f1:\"+str(np.average(cross_val_score(clf, X, Y, scoring='f1'))))\n",
        "lr = LogisticRegression()\n",
        "nb = MultinomialNB()\n",
        "knn = KNeighborsClassifier()\n",
        "seed = 7\n",
        "kfold = KFold(n_splits=10, random_state=None)\n",
        "results_lda = cross_val_predict(lda, X, Y, cv=kfold)\n",
        "results_rf = cross_val_predict(rf, X, Y, cv=kfold)\n",
        "results_svm = cross_val_predict(svm, X, Y, cv=kfold)\n",
        "results_lr = cross_val_predict(lr, X, Y, cv=kfold)\n",
        "results_nb = cross_val_predict(nb, X, Y, cv=kfold)\n",
        "results_knn = cross_val_predict(knn, X, Y, cv=kfold)\n"
      ],
      "metadata": {
        "colab": {
          "base_uri": "https://localhost:8080/"
        },
        "id": "sthEmW329RhO",
        "outputId": "9001239c-9cf1-4b89-800b-f1f998febc3b"
      },
      "execution_count": 5,
      "outputs": [
        {
          "output_type": "stream",
          "name": "stdout",
          "text": [
            "LinearDiscriminantAnalysis(solver='eigen')\n",
            "accuracy:0.534640522875817\n",
            "f1:0.6612128612128613\n"
          ]
        }
      ]
    },
    {
      "cell_type": "code",
      "source": [
        "from sklearn.metrics import confusion_matrix\n",
        "from sklearn.metrics import accuracy_score\n",
        "scores_lda = confusion_matrix(results_lda, Y)\n",
        "scores_rf = confusion_matrix(results_rf, Y)\n",
        "scores_svm = confusion_matrix(results_svm, Y)\n",
        "scores_lr = confusion_matrix(results_lr, Y)\n",
        "scores_nb = confusion_matrix(results_nb, Y)\n",
        "scores_knn = confusion_matrix(results_knn, Y)\n",
        "print(\"===============Linear Discriminant Analysis======================\")\n",
        "list = []\n",
        "for i in scores_lda[0]:\n",
        "    list.append(i)\n",
        "for i in scores_lda[1]:\n",
        "    list.append(i)\n",
        "l = [\"True Positive\", \"False Negative\", \"False Positive\", \"True Negative\"]\n",
        "print(l)\n",
        "print(list)\n",
        "print(\"Confusion Matrix:\",scores_lda)\n",
        "accuracy = accuracy_score(results_lda, Y)*100\n",
        "print(\"Accuracy:\",accuracy)\n",
        "print(\"===============Random Forest======================\")\n",
        "\n",
        "list = []\n",
        "for i in scores_rf[0]:\n",
        "    list.append(i)\n",
        "for i in scores_rf[1]:\n",
        "    list.append(i)\n",
        "l = [\"True Positive\", \"False Negative\", \"False Positive\", \"True Negative\"]\n",
        "print(l)\n",
        "print(list)\n",
        "print(\"Confusion Matrix:\",scores_rf)\n",
        "accuracy = accuracy_score(results_rf, Y)*100\n",
        "print(\"Accuracy:\",accuracy)\n",
        "print(\"===============Support Vector Machines======================\")\n",
        "\n",
        "list = []\n",
        "for i in scores_svm[0]:\n",
        "    list.append(i)\n",
        "for i in scores_svm[1]:\n",
        "    list.append(i)\n",
        "l = [\"True Positive\", \"False Negative\", \"False Positive\", \"True Negative\"]\n",
        "print(l)\n",
        "print(list)\n",
        "print(\"Confusion Matrix:\",scores_svm)\n",
        "accuracy = accuracy_score(results_svm, Y)*100\n",
        "print(\"Accuracy:\",accuracy)\n",
        "\n",
        "print(\"===============Logistic Regression======================\")\n",
        "\n",
        "list = []\n",
        "for i in scores_lr[0]:\n",
        "    list.append(i)\n",
        "for i in scores_lr[1]:\n",
        "    list.append(i)\n",
        "l = [\"True Positive\", \"False Negative\", \"False Positive\", \"True Negative\"]\n",
        "print(l)\n",
        "print(list)\n",
        "print(\"Confusion Matrix:\",scores_lr)\n",
        "accuracy = accuracy_score(results_lr, Y)*100\n",
        "print(\"Accuracy:\",accuracy)\n",
        "\n",
        "print(\"===============Naive Bayes======================\")\n",
        "\n",
        "list = []\n",
        "for i in scores_nb[0]:\n",
        "    list.append(i)\n",
        "for i in scores_nb[1]:\n",
        "    list.append(i)\n",
        "l = [\"True Positive\", \"False Negative\", \"False Positive\", \"True Negative\"]\n",
        "print(l)\n",
        "print(list)\n",
        "print(\"Confusion Matrix:\",scores_nb)\n",
        "accuracy = accuracy_score(results_nb, Y)*100\n",
        "print(\"Accuracy:\",accuracy)\n",
        "\n",
        "print(\"===============K-Nearest Neighbor======================\")\n",
        "\n",
        "list = []\n",
        "for i in scores_knn[0]:\n",
        "    list.append(i)\n",
        "for i in scores_knn[1]:\n",
        "    list.append(i)\n",
        "l = [\"True Positive\", \"False Negative\", \"False Positive\", \"True Negative\"]\n",
        "print(l)\n",
        "print(list)\n",
        "print(\"Confusion Matrix:\",scores_knn)\n",
        "accuracy = accuracy_score(results_knn, Y)*100\n",
        "print(\"Accuracy:\",accuracy)\n"
      ],
      "metadata": {
        "colab": {
          "base_uri": "https://localhost:8080/"
        },
        "id": "AiUZLnJg9T1f",
        "outputId": "72215a2c-bd56-42c9-dc14-42762fcc25dd"
      },
      "execution_count": 6,
      "outputs": [
        {
          "output_type": "stream",
          "name": "stdout",
          "text": [
            "===============Linear Discriminant Analysis======================\n",
            "['True Positive', 'False Negative', 'False Positive', 'True Negative']\n",
            "[30, 26, 19, 13]\n",
            "Confusion Matrix: [[30 26]\n",
            " [19 13]]\n",
            "Accuracy: 48.86363636363637\n",
            "===============Random Forest======================\n",
            "['True Positive', 'False Negative', 'False Positive', 'True Negative']\n",
            "[26, 27, 23, 12]\n",
            "Confusion Matrix: [[26 27]\n",
            " [23 12]]\n",
            "Accuracy: 43.18181818181818\n",
            "===============Support Vector Machines======================\n",
            "['True Positive', 'False Negative', 'False Positive', 'True Negative']\n",
            "[49, 39, 0, 0]\n",
            "Confusion Matrix: [[49 39]\n",
            " [ 0  0]]\n",
            "Accuracy: 55.68181818181818\n",
            "===============Logistic Regression======================\n",
            "['True Positive', 'False Negative', 'False Positive', 'True Negative']\n",
            "[33, 37, 16, 2]\n",
            "Confusion Matrix: [[33 37]\n",
            " [16  2]]\n",
            "Accuracy: 39.77272727272727\n",
            "===============Naive Bayes======================\n",
            "['True Positive', 'False Negative', 'False Positive', 'True Negative']\n",
            "[49, 39, 0, 0]\n",
            "Confusion Matrix: [[49 39]\n",
            " [ 0  0]]\n",
            "Accuracy: 55.68181818181818\n",
            "===============K-Nearest Neighbor======================\n",
            "['True Positive', 'False Negative', 'False Positive', 'True Negative']\n",
            "[27, 20, 22, 19]\n",
            "Confusion Matrix: [[27 20]\n",
            " [22 19]]\n",
            "Accuracy: 52.27272727272727\n"
          ]
        }
      ]
    },
    {
      "cell_type": "code",
      "source": [
        "#ROC Curve\n",
        "\n",
        "from sklearn.metrics import roc_curve, auc\n",
        "from matplotlib import pyplot as plt\n",
        "fpr, tpr, thresholds = roc_curve(results_lda, Y)\n",
        "roc_auc = auc(fpr, tpr)\n",
        "lw=2\n",
        "plt.figure()\n",
        "plt.plot(fpr, tpr, color='darkorange', lw=1, label='ROC curve (area = %0.2f)' % roc_auc)\n",
        "plt.plot([0, 1], [0, 1], color='navy', lw=lw, linestyle='--')\n",
        "plt.xlim([0.0, 1.0])\n",
        "plt.ylim([0.0, 1.05])\n",
        "plt.xlabel('False Positive Rate')\n",
        "plt.ylabel('True Positive Rate')\n",
        "plt.title('Receiver operating characteristic')\n",
        "plt.legend(loc=\"lower right\")\n",
        "plt.show()"
      ],
      "metadata": {
        "colab": {
          "base_uri": "https://localhost:8080/",
          "height": 415
        },
        "id": "VsnI86xW9UED",
        "outputId": "bae6cd3a-0807-4823-c8dd-933c5950417d"
      },
      "execution_count": 7,
      "outputs": [
        {
          "output_type": "error",
          "ename": "ValueError",
          "evalue": "ignored",
          "traceback": [
            "\u001b[0;31m---------------------------------------------------------------------------\u001b[0m",
            "\u001b[0;31mValueError\u001b[0m                                Traceback (most recent call last)",
            "\u001b[0;32m<ipython-input-7-136d2400cd0b>\u001b[0m in \u001b[0;36m<cell line: 5>\u001b[0;34m()\u001b[0m\n\u001b[1;32m      3\u001b[0m \u001b[0;32mfrom\u001b[0m \u001b[0msklearn\u001b[0m\u001b[0;34m.\u001b[0m\u001b[0mmetrics\u001b[0m \u001b[0;32mimport\u001b[0m \u001b[0mroc_curve\u001b[0m\u001b[0;34m,\u001b[0m \u001b[0mauc\u001b[0m\u001b[0;34m\u001b[0m\u001b[0;34m\u001b[0m\u001b[0m\n\u001b[1;32m      4\u001b[0m \u001b[0;32mfrom\u001b[0m \u001b[0mmatplotlib\u001b[0m \u001b[0;32mimport\u001b[0m \u001b[0mpyplot\u001b[0m \u001b[0;32mas\u001b[0m \u001b[0mplt\u001b[0m\u001b[0;34m\u001b[0m\u001b[0;34m\u001b[0m\u001b[0m\n\u001b[0;32m----> 5\u001b[0;31m \u001b[0mfpr\u001b[0m\u001b[0;34m,\u001b[0m \u001b[0mtpr\u001b[0m\u001b[0;34m,\u001b[0m \u001b[0mthresholds\u001b[0m \u001b[0;34m=\u001b[0m \u001b[0mroc_curve\u001b[0m\u001b[0;34m(\u001b[0m\u001b[0mresults_lda\u001b[0m\u001b[0;34m,\u001b[0m \u001b[0mY\u001b[0m\u001b[0;34m)\u001b[0m\u001b[0;34m\u001b[0m\u001b[0;34m\u001b[0m\u001b[0m\n\u001b[0m\u001b[1;32m      6\u001b[0m \u001b[0mroc_auc\u001b[0m \u001b[0;34m=\u001b[0m \u001b[0mauc\u001b[0m\u001b[0;34m(\u001b[0m\u001b[0mfpr\u001b[0m\u001b[0;34m,\u001b[0m \u001b[0mtpr\u001b[0m\u001b[0;34m)\u001b[0m\u001b[0;34m\u001b[0m\u001b[0;34m\u001b[0m\u001b[0m\n\u001b[1;32m      7\u001b[0m \u001b[0mlw\u001b[0m\u001b[0;34m=\u001b[0m\u001b[0;36m2\u001b[0m\u001b[0;34m\u001b[0m\u001b[0;34m\u001b[0m\u001b[0m\n",
            "\u001b[0;32m/usr/local/lib/python3.10/dist-packages/sklearn/metrics/_ranking.py\u001b[0m in \u001b[0;36mroc_curve\u001b[0;34m(y_true, y_score, pos_label, sample_weight, drop_intermediate)\u001b[0m\n\u001b[1;32m    990\u001b[0m     \u001b[0marray\u001b[0m\u001b[0;34m(\u001b[0m\u001b[0;34m[\u001b[0m\u001b[0;36m1.8\u001b[0m \u001b[0;34m,\u001b[0m \u001b[0;36m0.8\u001b[0m \u001b[0;34m,\u001b[0m \u001b[0;36m0.4\u001b[0m \u001b[0;34m,\u001b[0m \u001b[0;36m0.35\u001b[0m\u001b[0;34m,\u001b[0m \u001b[0;36m0.1\u001b[0m \u001b[0;34m]\u001b[0m\u001b[0;34m)\u001b[0m\u001b[0;34m\u001b[0m\u001b[0;34m\u001b[0m\u001b[0m\n\u001b[1;32m    991\u001b[0m     \"\"\"\n\u001b[0;32m--> 992\u001b[0;31m     fps, tps, thresholds = _binary_clf_curve(\n\u001b[0m\u001b[1;32m    993\u001b[0m         \u001b[0my_true\u001b[0m\u001b[0;34m,\u001b[0m \u001b[0my_score\u001b[0m\u001b[0;34m,\u001b[0m \u001b[0mpos_label\u001b[0m\u001b[0;34m=\u001b[0m\u001b[0mpos_label\u001b[0m\u001b[0;34m,\u001b[0m \u001b[0msample_weight\u001b[0m\u001b[0;34m=\u001b[0m\u001b[0msample_weight\u001b[0m\u001b[0;34m\u001b[0m\u001b[0;34m\u001b[0m\u001b[0m\n\u001b[1;32m    994\u001b[0m     )\n",
            "\u001b[0;32m/usr/local/lib/python3.10/dist-packages/sklearn/metrics/_ranking.py\u001b[0m in \u001b[0;36m_binary_clf_curve\u001b[0;34m(y_true, y_score, pos_label, sample_weight)\u001b[0m\n\u001b[1;32m    764\u001b[0m         \u001b[0msample_weight\u001b[0m \u001b[0;34m=\u001b[0m \u001b[0msample_weight\u001b[0m\u001b[0;34m[\u001b[0m\u001b[0mnonzero_weight_mask\u001b[0m\u001b[0;34m]\u001b[0m\u001b[0;34m\u001b[0m\u001b[0;34m\u001b[0m\u001b[0m\n\u001b[1;32m    765\u001b[0m \u001b[0;34m\u001b[0m\u001b[0m\n\u001b[0;32m--> 766\u001b[0;31m     \u001b[0mpos_label\u001b[0m \u001b[0;34m=\u001b[0m \u001b[0m_check_pos_label_consistency\u001b[0m\u001b[0;34m(\u001b[0m\u001b[0mpos_label\u001b[0m\u001b[0;34m,\u001b[0m \u001b[0my_true\u001b[0m\u001b[0;34m)\u001b[0m\u001b[0;34m\u001b[0m\u001b[0;34m\u001b[0m\u001b[0m\n\u001b[0m\u001b[1;32m    767\u001b[0m \u001b[0;34m\u001b[0m\u001b[0m\n\u001b[1;32m    768\u001b[0m     \u001b[0;31m# make y_true a boolean vector\u001b[0m\u001b[0;34m\u001b[0m\u001b[0;34m\u001b[0m\u001b[0m\n",
            "\u001b[0;32m/usr/local/lib/python3.10/dist-packages/sklearn/metrics/_base.py\u001b[0m in \u001b[0;36m_check_pos_label_consistency\u001b[0;34m(pos_label, y_true)\u001b[0m\n\u001b[1;32m    241\u001b[0m     ):\n\u001b[1;32m    242\u001b[0m         \u001b[0mclasses_repr\u001b[0m \u001b[0;34m=\u001b[0m \u001b[0;34m\", \"\u001b[0m\u001b[0;34m.\u001b[0m\u001b[0mjoin\u001b[0m\u001b[0;34m(\u001b[0m\u001b[0mrepr\u001b[0m\u001b[0;34m(\u001b[0m\u001b[0mc\u001b[0m\u001b[0;34m)\u001b[0m \u001b[0;32mfor\u001b[0m \u001b[0mc\u001b[0m \u001b[0;32min\u001b[0m \u001b[0mclasses\u001b[0m\u001b[0;34m)\u001b[0m\u001b[0;34m\u001b[0m\u001b[0;34m\u001b[0m\u001b[0m\n\u001b[0;32m--> 243\u001b[0;31m         raise ValueError(\n\u001b[0m\u001b[1;32m    244\u001b[0m             \u001b[0;34mf\"y_true takes value in {{{classes_repr}}} and pos_label is not \"\u001b[0m\u001b[0;34m\u001b[0m\u001b[0;34m\u001b[0m\u001b[0m\n\u001b[1;32m    245\u001b[0m             \u001b[0;34m\"specified: either make y_true take value in {0, 1} or \"\u001b[0m\u001b[0;34m\u001b[0m\u001b[0;34m\u001b[0m\u001b[0m\n",
            "\u001b[0;31mValueError\u001b[0m: y_true takes value in {1.0, 2.0} and pos_label is not specified: either make y_true take value in {0, 1} or {-1, 1} or pass pos_label explicitly."
          ]
        }
      ]
    }
  ]
}