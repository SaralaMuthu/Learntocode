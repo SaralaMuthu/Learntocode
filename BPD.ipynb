{
  "nbformat": 4,
  "nbformat_minor": 0,
  "metadata": {
    "colab": {
      "provenance": [],
      "mount_file_id": "1GGCFVWIgVIe4lOYYoRu6q59lC5It15hm",
      "authorship_tag": "ABX9TyNRw6g5MxVlzI+VYAZbKlcH",
      "include_colab_link": true
    },
    "kernelspec": {
      "name": "python3",
      "display_name": "Python 3"
    },
    "language_info": {
      "name": "python"
    }
  },
  "cells": [
    {
      "cell_type": "markdown",
      "metadata": {
        "id": "view-in-github",
        "colab_type": "text"
      },
      "source": [
        "<a href=\"https://colab.research.google.com/github/SaralaMuthu/Learntocode/blob/master/BPD.ipynb\" target=\"_parent\"><img src=\"https://colab.research.google.com/assets/colab-badge.svg\" alt=\"Open In Colab\"/></a>"
      ]
    },
    {
      "cell_type": "code",
      "execution_count": null,
      "metadata": {
        "id": "lGDWQKs-eJQp"
      },
      "outputs": [],
      "source": [
        "!python /content/fcbff.py -inpath='/content/bpd.csv' -thresh=0.5"
      ]
    },
    {
      "cell_type": "code",
      "source": [
        "#!/usr/bin/env python\n",
        "# encoding: utf-8"
      ],
      "metadata": {
        "id": "FxnwjdyMC2Sr"
      },
      "execution_count": 3,
      "outputs": []
    },
    {
      "cell_type": "code",
      "source": [
        "import sys\n",
        "import os\n",
        "import argparse\n",
        "import numpy as np\n",
        "import pandas as pd"
      ],
      "metadata": {
        "id": "6jLdFKWzC5pw"
      },
      "execution_count": 4,
      "outputs": []
    },
    {
      "cell_type": "code",
      "source": [
        "def entropy(vec, base=2):\n",
        "\t\" Returns the empirical entropy H(X) in the input vector.\"\n",
        "\t_, vec = np.unique(vec, return_counts=True)\n",
        "\tprob_vec = np.array(vec/float(sum(vec)))\n",
        "\tif base == 2:\n",
        "\t\tlogfn = np.log2\n",
        "\telif base == 10:\n",
        "\t\tlogfn = np.log10\n",
        "\telse:\n",
        "\t\tlogfn = np.log\n",
        "\treturn prob_vec.dot(-logfn(prob_vec))"
      ],
      "metadata": {
        "id": "22oy3AANDEjE"
      },
      "execution_count": 5,
      "outputs": []
    },
    {
      "cell_type": "code",
      "source": [
        "def conditional_entropy(x, y):\n",
        "\t\"Returns H(X|Y).\"\n",
        "\tuy, uyc = np.unique(y, return_counts=True)\n",
        "\tprob_uyc = uyc/float(sum(uyc))\n",
        "\tcond_entropy_x = np.array([entropy(x[y == v]) for v in uy])\n",
        "\treturn prob_uyc.dot(cond_entropy_x)"
      ],
      "metadata": {
        "id": "GyXzwcgGDZza"
      },
      "execution_count": 6,
      "outputs": []
    },
    {
      "cell_type": "code",
      "source": [
        "def mutual_information(x, y):\n",
        "\t\" Returns the information gain/mutual information [H(X)-H(X|Y)] between two random vars x & y.\"\n",
        "\treturn entropy(x) - conditional_entropy(x, y)"
      ],
      "metadata": {
        "id": "x8W0vvWQDfKB"
      },
      "execution_count": 7,
      "outputs": []
    },
    {
      "cell_type": "code",
      "source": [
        "def symmetrical_uncertainty(x, y):\n",
        "\t\" Returns 'symmetrical uncertainty' (SU) - a symmetric mutual information measure.\"\n",
        "\treturn 2.0*mutual_information(x, y)/(entropy(x) + entropy(y))\n"
      ],
      "metadata": {
        "id": "wsbTcT7rDjp7"
      },
      "execution_count": 8,
      "outputs": []
    },
    {
      "cell_type": "code",
      "source": [
        "def getFirstElement(d):\n",
        "\t\"\"\"\n",
        "\tReturns tuple corresponding to first 'unconsidered' feature\n",
        "\t\n",
        "\tParameters:\n",
        "\t----------\n",
        "\td : ndarray\n",
        "\t\tA 2-d array with SU, original feature index and flag as columns.\n",
        "\t\n",
        "\tReturns:\n",
        "\t-------\n",
        "\ta, b, c : tuple\n",
        "\t\ta - SU value, b - original feature index, c - index of next 'unconsidered' feature\n",
        "\t\"\"\"\n",
        "\t\n",
        "\tt = np.where(d[:,2]>0)[0]\n",
        "\tif len(t):\n",
        "\t\treturn d[t[0],0], d[t[0],1], t[0]\n",
        "\treturn None, None, None"
      ],
      "metadata": {
        "id": "RhTGWdOnDpnm"
      },
      "execution_count": 9,
      "outputs": []
    },
    {
      "cell_type": "code",
      "source": [
        "def getNextElement(d, idx):\n",
        "\t\"\"\"\n",
        "\tReturns tuple corresponding to the next 'unconsidered' feature.\n",
        "\t\n",
        "\tParameters:\n",
        "\t-----------\n",
        "\td : ndarray\n",
        "\t\tA 2-d array with SU, original feature index and flag as columns.\n",
        "\tidx : int\n",
        "\t\tRepresents original index of a feature whose next element is required.\n",
        "\t\t\n",
        "\tReturns:\n",
        "\t--------\n",
        "\ta, b, c : tuple\n",
        "\t\ta - SU value, b - original feature index, c - index of next 'unconsidered' feature\n",
        "\t\"\"\"\n",
        "\tt = np.where(d[:,2]>0)[0]\n",
        "\tt = t[t > idx]\n",
        "\tif len(t):\n",
        "\t\treturn d[t[0],0], d[t[0],1], t[0]\n",
        "\treturn None, None, None"
      ],
      "metadata": {
        "id": "TQzhQgagDzHB"
      },
      "execution_count": 10,
      "outputs": []
    },
    {
      "cell_type": "code",
      "source": [
        "def removeElement(d, idx):\n",
        "\t\"\"\"\n",
        "\tReturns data with requested feature removed.\n",
        "\t\n",
        "\tParameters:\n",
        "\t-----------\n",
        "\td : ndarray\n",
        "\t\tA 2-d array with SU, original feature index and flag as columns.\n",
        "\tidx : int\n",
        "\t\tRepresents original index of a feature which needs to be removed.\n",
        "\t\t\n",
        "\tReturns:\n",
        "\t--------\n",
        "\td : ndarray\n",
        "\t\tSame as input, except with specific feature removed.\n",
        "\t\"\"\"\n",
        "\td[idx,2] = 0\n",
        "\treturn d"
      ],
      "metadata": {
        "id": "rzD4y7MKD9JJ"
      },
      "execution_count": 11,
      "outputs": []
    },
    {
      "cell_type": "code",
      "source": [
        "def c_correlation(X, y):\n",
        "\t\"\"\"\n",
        "\tReturns SU values between each feature and class.\n",
        "\t\n",
        "\tParameters:\n",
        "\t-----------\n",
        "\tX : 2-D ndarray\n",
        "\t\tFeature matrix.\n",
        "\ty : ndarray\n",
        "\t\tClass label vector\n",
        "\t\t\n",
        "\tReturns:\n",
        "\t--------\n",
        "\tsu : ndarray\n",
        "\t\tSymmetric Uncertainty (SU) values for each feature.\n",
        "\t\"\"\"\n",
        "\tsu = np.zeros(X.shape[1])\n",
        "\tfor i in np.arange(X.shape[1]):\n",
        "\t\tsu[i] = symmetrical_uncertainty(X[:,i], y)\n",
        "\treturn su"
      ],
      "metadata": {
        "id": "dsxpI7qxEFS5"
      },
      "execution_count": 12,
      "outputs": []
    },
    {
      "cell_type": "code",
      "source": [
        "def fcbf(X, y, thresh):\n",
        "\t\"\"\"\n",
        "\tPerform Fast Correlation-Based Filter solution (FCBF).\n",
        "\t\n",
        "\tParameters:\n",
        "\t-----------\n",
        "\tX : 2-D ndarray\n",
        "\t\tFeature matrix\n",
        "\ty : ndarray\n",
        "\t\tClass label vector\n",
        "\tthresh : float\n",
        "\t\tA value in [0,1) used as threshold for selecting 'relevant' features. \n",
        "\t\tA negative value suggest the use of minimum SU[i,c] value as threshold.\n",
        "\t\n",
        "\tReturns:\n",
        "\t--------\n",
        "\tsbest : 2-D ndarray\n",
        "\t\tAn array containing SU[i,c] values and feature index i.\n",
        "\t\"\"\"\n",
        "\tn = X.shape[1]\n",
        "\tslist = np.zeros((n, 3))\n",
        "\tslist[:, -1] = 1\n",
        "\n",
        "\t# identify relevant features\n",
        "\tslist[:,0] = c_correlation(X, y) # compute 'C-correlation'\n",
        "\tidx = slist[:,0].argsort()[::-1]\n",
        "\tslist = slist[idx, ]\n",
        "\tslist[:,1] = idx\n",
        "\tif thresh < 0:\n",
        "\t\tthresh = np.median(slist[-1,0])\n",
        "\t\tprint(\"Using minimum SU value as default threshold: {0}\".format(thresh))\n",
        "\telif thresh >= 1 or thresh > max(slist[:,0]):\n",
        "\t\tprint(\"No relevant features selected for given threshold.\")\n",
        "\t\tprint(\"Please lower the threshold and try again.\")\n",
        "\t\texit()\n",
        "\t\t\n",
        "\tslist = slist[slist[:,0]>thresh,:] # desc. ordered per SU[i,c]\n",
        "\t\n",
        "\t# identify redundant features among the relevant ones\n",
        "\tcache = {}\n",
        "\tm = len(slist)\n",
        "\tp_su, p, p_idx = getFirstElement(slist)\n",
        "\tfor i in range(m):\n",
        "\t\tp = int(p)\n",
        "\t\tq_su, q, q_idx = getNextElement(slist, p_idx)\n",
        "\t\tif q:\n",
        "\t\t\twhile q:\n",
        "\t\t\t\tq = int(q)\n",
        "\t\t\t\tif (p, q) in cache:\n",
        "\t\t\t\t\tpq_su = cache[(p,q)]\n",
        "\t\t\t\telse:\n",
        "\t\t\t\t\tpq_su = symmetrical_uncertainty(X[:,p], X[:,q])\n",
        "\t\t\t\t\tcache[(p,q)] = pq_su\n",
        "\n",
        "\t\t\t\tif pq_su >= q_su:\n",
        "\t\t\t\t\tslist = removeElement(slist, q_idx)\n",
        "\t\t\t\tq_su, q, q_idx = getNextElement(slist, q_idx)\n",
        "\t\t\t\t\n",
        "\t\tp_su, p, p_idx = getNextElement(slist, p_idx)\n",
        "\t\tif not p_idx:\n",
        "\t\t\tbreak\n",
        "\t\n",
        "\tsbest = slist[slist[:,2]>0, :2]\n",
        "\treturn sbest\n"
      ],
      "metadata": {
        "id": "1xoncC2yEPA9"
      },
      "execution_count": 13,
      "outputs": []
    },
    {
      "cell_type": "code",
      "source": [
        "def fcbf_wrapper(inpath, thresh, delim=',', header=False, classAt=-1):\n",
        "\t\"\"\"\n",
        "\tMain function call to perform FCBF selection. Saves Symmetric Uncertainty (SU)\n",
        "\tvalues and 0-based indices of selected features to a CSV file at the same location\n",
        "\tas input file, with 'feature_' as prefix. e.g. 'feature_pima.csv' for 'pima.csv'.\n",
        "\t\n",
        "\tParameters:\n",
        "\t-----------\n",
        "\tinpath : str\n",
        "\t\tPath containing training set.\n",
        "\tthresh : float\n",
        "\t\tA value in [0,1) used as threshold for selecting 'relevant' features. \n",
        "\t\tA negative value suggest the use of minimum SU[i,c] value as threshold.\n",
        "\tdelim : str\n",
        "\t\tCharacter to be used to delimit input file. defaults to ','\n",
        "\theader : bool\n",
        "\t\tWhether the input file contains a header line. default to False.\n",
        "\tclassAt : int\n",
        "\t\t0-based index of the class vector in the file. A value of -1 (default) \n",
        "\t\tsuggest to use last column.\n",
        "\t\"\"\"\n",
        "\tif os.path.exists(inpath):\n",
        "\t\ttry:\n",
        "\t\t\tprint(\"Reading file. Please wait ...\")\n",
        "\t\t\tif header:\n",
        "\t\t\t\td = pd.read_csv(inpath, delimiter=str(delim), header=0,engine='python')\n",
        "\t\t\telse:\n",
        "\t\t\t\td = pd.read_csv(inpath, delimiter=str(delim),engine='python')\n",
        "\t\t\tprint(\"Success! Dimensions: \",d.shape)\n",
        "\t\t\tp=d.shape[1]\n",
        "\t\texcept Exception(e):\n",
        "\t\t\tprint(\"Input file loading failed. Please check the file.\")\n",
        "\t\t\tprint(\"Error:\", e)\n",
        "\t\t\traise e\n",
        "\t\t\texit()\n",
        "\t\t\n",
        "\t\tif classAt == -1:\n",
        "\t\t\tX = d.iloc[:, :d.shape[1]].values\n",
        "\t\t\ty = d.iloc[:,-1].values\n",
        "\t\telse:\n",
        "\t\t\tidx = np.arange(d.shape[1])\n",
        "\t\t\tX = d.iloc[:, idx[idx != classAt]].values\n",
        "\t\t\ty = d.iloc[:, classAt].values\t\n",
        "\n",
        "\t\ttry:\n",
        "\t\t\tprint(\"Performing FCBF selection. Please wait ...\")\n",
        "\t\t\tprint('X: {}, y: {}'.format(X.shape, len(y)))\n",
        "\t\t\tsbest = fcbf(X, y, thresh)\n",
        "\t\t\tprint(\"Done!\")\n",
        "\t\t\tprint(\"\\n#Features selected: {0}\".format(len(sbest)))\n",
        "\t\t\tprint(\"Selected feature indices:\\n{0}\".format(sbest))\n",
        "\t\t\ttry:\n",
        "\t\t\t\toutpath = os.path.split(inpath)[0] \\\n",
        "\t\t\t\t\t\t\t+ '/features_' + os.path.split(inpath)[1]\n",
        "\t\t\t\tnp.savetxt(outpath, sbest, fmt=\"%0.8f,%d\", newline=\"\\n\", \\\n",
        "\t\t\t\t \t\t\theader='SU, 0-based Feature')\n",
        "\t\t\t\tprint(\"\\nFile saved successfully. Path: {0}\".format(outpath))\n",
        "\t\t\texcept Exception(e):\n",
        "\t\t\t\tprint(\"Error encountered while saving file:\", e)\n",
        "\t\texcept Exception(e):\n",
        "\t\t\tprint(\"Error:\", e)\t\t\t\n",
        "\telse:\n",
        "\t\tprint(\"The file you specified does not exist.\")\n",
        "\t"
      ],
      "metadata": {
        "id": "IAyKyj4CEcL6"
      },
      "execution_count": 14,
      "outputs": []
    },
    {
      "cell_type": "code",
      "source": [
        "def fcbf_wrapperr(inpath, thresh, delim=',', header=False, classAt=-1):\n",
        "\t\"\"\"\n",
        "\tMain function call to perform FCBF selection. Saves Symmetric Uncertainty (SU)\n",
        "\tvalues and 0-based indices of selected features to a CSV file at the same location\n",
        "\tas input file, with 'feature_' as prefix. e.g. 'feature_pima.csv' for 'pima.csv'.\n",
        "\t\n",
        "\tParameters:\n",
        "\t-----------\n",
        "\tinpath : str\n",
        "\t\tPath containing training set.\n",
        "\tthresh : float\n",
        "\t\tA value in [0,1) used as threshold for selecting 'relevant' features. \n",
        "\t\tA negative value suggest the use of minimum SU[i,c] value as threshold.\n",
        "\tdelim : str\n",
        "\t\tCharacter to be used to delimit input file. defaults to ','\n",
        "\theader : bool\n",
        "\t\tWhether the input file contains a header line. default to False.\n",
        "\tclassAt : int\n",
        "\t\t0-based index of the class vector in the file. A value of -1 (default) \n",
        "\t\tsuggest to use last column.\n",
        "\t\"\"\"\n",
        "\tif os.path.exists(inpath):\n",
        "\t\ttry:\n",
        "\t\t\tprint(\"Reading file. Please wait ...\")\n",
        "\t\t\tif header:\n",
        "\t\t\t\td = pd.read_csv(inpath, delimiter=str(delim), header=0,engine='python')\n",
        "\t\t\telse:\n",
        "\t\t\t\td = pd.read_csv(inpath, delimiter=str(delim),engine='python')\n",
        "\t\t\tprint(\"Success! Dimensions: \",d.shape)\n",
        "\t\t\t#p=d.shape[1]\n",
        "\t\texcept Exception(e):\n",
        "\t\t\tprint(\"Input file loading failed. Please check the file.\")\n",
        "\t\t\tprint(\"Error:\", e)\n",
        "\t\t\traise e\n",
        "\t\t\texit()\n",
        "\t\t\n",
        "\t\tif classAt == -1:\n",
        "\t\t\tX = d.iloc[:, :d.shape[1]].values\n",
        "\t\t\ty = d.iloc[:,-1].values\n",
        "\t\telse:\n",
        "\t\t\tidx = np.arange(d.shape[1])\n",
        "\t\t\tX = d.iloc[:, idx[idx != classAt]].values\n",
        "\t\t\ty = d.iloc[:, classAt].values\n",
        "\t\tprint(X.shape);print(y.shape)\n",
        "   "
      ],
      "metadata": {
        "id": "G7J7IFoarK5g"
      },
      "execution_count": null,
      "outputs": []
    },
    {
      "cell_type": "code",
      "source": [
        "import numpy as np # linear algebra\n",
        "import pandas as pd # data processing, CSV file I/O (e.g. pd.read_csv)\n",
        "\n",
        "df=pd.read_csv(\"/content/bpd.csv\",delimiter=',',engine='python')\n",
        "print(df.shape)\n",
        "print(df.shape[0])\n",
        "print(df.shape[1])"
      ],
      "metadata": {
        "colab": {
          "base_uri": "https://localhost:8080/"
        },
        "id": "8FVbMNIczrXr",
        "outputId": "d0c2fe44-c63f-4257-d7b1-1dd07a870509"
      },
      "execution_count": null,
      "outputs": [
        {
          "output_type": "stream",
          "name": "stdout",
          "text": [
            "(54675, 90)\n",
            "54675\n",
            "90\n"
          ]
        }
      ]
    },
    {
      "cell_type": "code",
      "source": [
        "import numpy as np # linear algebra\n",
        "import pandas as pd # data processing, CSV file I/O (e.g. pd.read_csv)\n",
        "\n",
        "df=pd.read_csv(\"/content/bpdFSclasss.csv\",delimiter=',',engine='python')\n",
        "print(df.shape)\n",
        "X=df.T\n",
        "print(X.shape)\n",
        "X.head()\n",
        "X.to_csv(\"test.csv\", sep=',' ,header=None,index=False)\n",
        "\n"
      ],
      "metadata": {
        "colab": {
          "base_uri": "https://localhost:8080/"
        },
        "id": "hm42fzVzNPko",
        "outputId": "d149c7d2-462a-434a-9ddf-ff1bb02aceed"
      },
      "execution_count": 36,
      "outputs": [
        {
          "output_type": "stream",
          "name": "stdout",
          "text": [
            "(54676, 89)\n",
            "(89, 54676)\n"
          ]
        }
      ]
    },
    {
      "cell_type": "code",
      "source": [
        "d=pd.read_csv(\"/content/test.csv\",delimiter=',',engine='python')\n",
        "print(d.shape)\n",
        "d.head()\n"
      ],
      "metadata": {
        "colab": {
          "base_uri": "https://localhost:8080/",
          "height": 352
        },
        "id": "Aisdxopqnp4G",
        "outputId": "cedc8142-2ac4-4d3b-8067-925be1259f72"
      },
      "execution_count": 15,
      "outputs": [
        {
          "output_type": "stream",
          "name": "stdout",
          "text": [
            "(88, 54676)\n"
          ]
        },
        {
          "output_type": "execute_result",
          "data": {
            "text/plain": [
              "   1007_s_at   1053_at     117_at    121_at  1255_g_at   1294_at   1316_at  \\\n",
              "0   6.781245  7.209577  10.224917  7.397761   2.800003  9.002311  4.469153   \n",
              "1   7.105540  7.042350  10.218934  7.826926   2.811085  8.908063  4.936953   \n",
              "2   7.176201  6.866277   9.967175  7.648635   2.889680  8.863025  4.714443   \n",
              "3   6.910155  7.107594   9.968917  7.515799   2.981619  8.886335  4.626546   \n",
              "4   7.229103  7.059184   9.251931  7.742450   2.853711  8.898094  4.598057   \n",
              "\n",
              "    1320_at  1405_i_at   1431_at  ...  AFFX-r2-Ec-bioD-5_at  \\\n",
              "0  3.963464  11.682971  3.320923  ...             11.507549   \n",
              "1  3.884465  11.708093  3.385179  ...             11.455276   \n",
              "2  4.079035  11.551474  3.598951  ...             11.526475   \n",
              "3  3.902244  11.511711  3.536087  ...             11.492295   \n",
              "4  3.872721  12.303847  3.580876  ...             11.555108   \n",
              "\n",
              "   AFFX-r2-P1-cre-3_at  AFFX-r2-P1-cre-5_at  AFFX-ThrX-3_at  AFFX-ThrX-5_at  \\\n",
              "0            13.634878            13.354401        3.650186        3.617160   \n",
              "1            13.642405            13.430102        3.721502        3.360808   \n",
              "2            13.588778            13.374048        3.565228        3.435166   \n",
              "3            13.666277            13.367172        3.664887        3.656630   \n",
              "4            13.585962            13.367172        3.560082        3.499140   \n",
              "\n",
              "   AFFX-ThrX-M_at  AFFX-TrpnX-3_at  AFFX-TrpnX-5_at  AFFX-TrpnX-M_at  Class  \n",
              "0        2.944756         2.864972         3.432050         3.324930    1.0  \n",
              "1        2.993379         2.886092         3.433330         3.255630    1.0  \n",
              "2        3.221675         2.845552         3.338108         3.221442    2.0  \n",
              "3        3.092886         2.923808         3.425972         3.302892    2.0  \n",
              "4        3.117756         2.929460         3.386154         3.339504    1.0  \n",
              "\n",
              "[5 rows x 54676 columns]"
            ],
            "text/html": [
              "\n",
              "  <div id=\"df-bd4b9be1-b1ee-42e3-bfe1-4835bad18487\">\n",
              "    <div class=\"colab-df-container\">\n",
              "      <div>\n",
              "<style scoped>\n",
              "    .dataframe tbody tr th:only-of-type {\n",
              "        vertical-align: middle;\n",
              "    }\n",
              "\n",
              "    .dataframe tbody tr th {\n",
              "        vertical-align: top;\n",
              "    }\n",
              "\n",
              "    .dataframe thead th {\n",
              "        text-align: right;\n",
              "    }\n",
              "</style>\n",
              "<table border=\"1\" class=\"dataframe\">\n",
              "  <thead>\n",
              "    <tr style=\"text-align: right;\">\n",
              "      <th></th>\n",
              "      <th>1007_s_at</th>\n",
              "      <th>1053_at</th>\n",
              "      <th>117_at</th>\n",
              "      <th>121_at</th>\n",
              "      <th>1255_g_at</th>\n",
              "      <th>1294_at</th>\n",
              "      <th>1316_at</th>\n",
              "      <th>1320_at</th>\n",
              "      <th>1405_i_at</th>\n",
              "      <th>1431_at</th>\n",
              "      <th>...</th>\n",
              "      <th>AFFX-r2-Ec-bioD-5_at</th>\n",
              "      <th>AFFX-r2-P1-cre-3_at</th>\n",
              "      <th>AFFX-r2-P1-cre-5_at</th>\n",
              "      <th>AFFX-ThrX-3_at</th>\n",
              "      <th>AFFX-ThrX-5_at</th>\n",
              "      <th>AFFX-ThrX-M_at</th>\n",
              "      <th>AFFX-TrpnX-3_at</th>\n",
              "      <th>AFFX-TrpnX-5_at</th>\n",
              "      <th>AFFX-TrpnX-M_at</th>\n",
              "      <th>Class</th>\n",
              "    </tr>\n",
              "  </thead>\n",
              "  <tbody>\n",
              "    <tr>\n",
              "      <th>0</th>\n",
              "      <td>6.781245</td>\n",
              "      <td>7.209577</td>\n",
              "      <td>10.224917</td>\n",
              "      <td>7.397761</td>\n",
              "      <td>2.800003</td>\n",
              "      <td>9.002311</td>\n",
              "      <td>4.469153</td>\n",
              "      <td>3.963464</td>\n",
              "      <td>11.682971</td>\n",
              "      <td>3.320923</td>\n",
              "      <td>...</td>\n",
              "      <td>11.507549</td>\n",
              "      <td>13.634878</td>\n",
              "      <td>13.354401</td>\n",
              "      <td>3.650186</td>\n",
              "      <td>3.617160</td>\n",
              "      <td>2.944756</td>\n",
              "      <td>2.864972</td>\n",
              "      <td>3.432050</td>\n",
              "      <td>3.324930</td>\n",
              "      <td>1.0</td>\n",
              "    </tr>\n",
              "    <tr>\n",
              "      <th>1</th>\n",
              "      <td>7.105540</td>\n",
              "      <td>7.042350</td>\n",
              "      <td>10.218934</td>\n",
              "      <td>7.826926</td>\n",
              "      <td>2.811085</td>\n",
              "      <td>8.908063</td>\n",
              "      <td>4.936953</td>\n",
              "      <td>3.884465</td>\n",
              "      <td>11.708093</td>\n",
              "      <td>3.385179</td>\n",
              "      <td>...</td>\n",
              "      <td>11.455276</td>\n",
              "      <td>13.642405</td>\n",
              "      <td>13.430102</td>\n",
              "      <td>3.721502</td>\n",
              "      <td>3.360808</td>\n",
              "      <td>2.993379</td>\n",
              "      <td>2.886092</td>\n",
              "      <td>3.433330</td>\n",
              "      <td>3.255630</td>\n",
              "      <td>1.0</td>\n",
              "    </tr>\n",
              "    <tr>\n",
              "      <th>2</th>\n",
              "      <td>7.176201</td>\n",
              "      <td>6.866277</td>\n",
              "      <td>9.967175</td>\n",
              "      <td>7.648635</td>\n",
              "      <td>2.889680</td>\n",
              "      <td>8.863025</td>\n",
              "      <td>4.714443</td>\n",
              "      <td>4.079035</td>\n",
              "      <td>11.551474</td>\n",
              "      <td>3.598951</td>\n",
              "      <td>...</td>\n",
              "      <td>11.526475</td>\n",
              "      <td>13.588778</td>\n",
              "      <td>13.374048</td>\n",
              "      <td>3.565228</td>\n",
              "      <td>3.435166</td>\n",
              "      <td>3.221675</td>\n",
              "      <td>2.845552</td>\n",
              "      <td>3.338108</td>\n",
              "      <td>3.221442</td>\n",
              "      <td>2.0</td>\n",
              "    </tr>\n",
              "    <tr>\n",
              "      <th>3</th>\n",
              "      <td>6.910155</td>\n",
              "      <td>7.107594</td>\n",
              "      <td>9.968917</td>\n",
              "      <td>7.515799</td>\n",
              "      <td>2.981619</td>\n",
              "      <td>8.886335</td>\n",
              "      <td>4.626546</td>\n",
              "      <td>3.902244</td>\n",
              "      <td>11.511711</td>\n",
              "      <td>3.536087</td>\n",
              "      <td>...</td>\n",
              "      <td>11.492295</td>\n",
              "      <td>13.666277</td>\n",
              "      <td>13.367172</td>\n",
              "      <td>3.664887</td>\n",
              "      <td>3.656630</td>\n",
              "      <td>3.092886</td>\n",
              "      <td>2.923808</td>\n",
              "      <td>3.425972</td>\n",
              "      <td>3.302892</td>\n",
              "      <td>2.0</td>\n",
              "    </tr>\n",
              "    <tr>\n",
              "      <th>4</th>\n",
              "      <td>7.229103</td>\n",
              "      <td>7.059184</td>\n",
              "      <td>9.251931</td>\n",
              "      <td>7.742450</td>\n",
              "      <td>2.853711</td>\n",
              "      <td>8.898094</td>\n",
              "      <td>4.598057</td>\n",
              "      <td>3.872721</td>\n",
              "      <td>12.303847</td>\n",
              "      <td>3.580876</td>\n",
              "      <td>...</td>\n",
              "      <td>11.555108</td>\n",
              "      <td>13.585962</td>\n",
              "      <td>13.367172</td>\n",
              "      <td>3.560082</td>\n",
              "      <td>3.499140</td>\n",
              "      <td>3.117756</td>\n",
              "      <td>2.929460</td>\n",
              "      <td>3.386154</td>\n",
              "      <td>3.339504</td>\n",
              "      <td>1.0</td>\n",
              "    </tr>\n",
              "  </tbody>\n",
              "</table>\n",
              "<p>5 rows × 54676 columns</p>\n",
              "</div>\n",
              "      <button class=\"colab-df-convert\" onclick=\"convertToInteractive('df-bd4b9be1-b1ee-42e3-bfe1-4835bad18487')\"\n",
              "              title=\"Convert this dataframe to an interactive table.\"\n",
              "              style=\"display:none;\">\n",
              "        \n",
              "  <svg xmlns=\"http://www.w3.org/2000/svg\" height=\"24px\"viewBox=\"0 0 24 24\"\n",
              "       width=\"24px\">\n",
              "    <path d=\"M0 0h24v24H0V0z\" fill=\"none\"/>\n",
              "    <path d=\"M18.56 5.44l.94 2.06.94-2.06 2.06-.94-2.06-.94-.94-2.06-.94 2.06-2.06.94zm-11 1L8.5 8.5l.94-2.06 2.06-.94-2.06-.94L8.5 2.5l-.94 2.06-2.06.94zm10 10l.94 2.06.94-2.06 2.06-.94-2.06-.94-.94-2.06-.94 2.06-2.06.94z\"/><path d=\"M17.41 7.96l-1.37-1.37c-.4-.4-.92-.59-1.43-.59-.52 0-1.04.2-1.43.59L10.3 9.45l-7.72 7.72c-.78.78-.78 2.05 0 2.83L4 21.41c.39.39.9.59 1.41.59.51 0 1.02-.2 1.41-.59l7.78-7.78 2.81-2.81c.8-.78.8-2.07 0-2.86zM5.41 20L4 18.59l7.72-7.72 1.47 1.35L5.41 20z\"/>\n",
              "  </svg>\n",
              "      </button>\n",
              "      \n",
              "  <style>\n",
              "    .colab-df-container {\n",
              "      display:flex;\n",
              "      flex-wrap:wrap;\n",
              "      gap: 12px;\n",
              "    }\n",
              "\n",
              "    .colab-df-convert {\n",
              "      background-color: #E8F0FE;\n",
              "      border: none;\n",
              "      border-radius: 50%;\n",
              "      cursor: pointer;\n",
              "      display: none;\n",
              "      fill: #1967D2;\n",
              "      height: 32px;\n",
              "      padding: 0 0 0 0;\n",
              "      width: 32px;\n",
              "    }\n",
              "\n",
              "    .colab-df-convert:hover {\n",
              "      background-color: #E2EBFA;\n",
              "      box-shadow: 0px 1px 2px rgba(60, 64, 67, 0.3), 0px 1px 3px 1px rgba(60, 64, 67, 0.15);\n",
              "      fill: #174EA6;\n",
              "    }\n",
              "\n",
              "    [theme=dark] .colab-df-convert {\n",
              "      background-color: #3B4455;\n",
              "      fill: #D2E3FC;\n",
              "    }\n",
              "\n",
              "    [theme=dark] .colab-df-convert:hover {\n",
              "      background-color: #434B5C;\n",
              "      box-shadow: 0px 1px 3px 1px rgba(0, 0, 0, 0.15);\n",
              "      filter: drop-shadow(0px 1px 2px rgba(0, 0, 0, 0.3));\n",
              "      fill: #FFFFFF;\n",
              "    }\n",
              "  </style>\n",
              "\n",
              "      <script>\n",
              "        const buttonEl =\n",
              "          document.querySelector('#df-bd4b9be1-b1ee-42e3-bfe1-4835bad18487 button.colab-df-convert');\n",
              "        buttonEl.style.display =\n",
              "          google.colab.kernel.accessAllowed ? 'block' : 'none';\n",
              "\n",
              "        async function convertToInteractive(key) {\n",
              "          const element = document.querySelector('#df-bd4b9be1-b1ee-42e3-bfe1-4835bad18487');\n",
              "          const dataTable =\n",
              "            await google.colab.kernel.invokeFunction('convertToInteractive',\n",
              "                                                     [key], {});\n",
              "          if (!dataTable) return;\n",
              "\n",
              "          const docLinkHtml = 'Like what you see? Visit the ' +\n",
              "            '<a target=\"_blank\" href=https://colab.research.google.com/notebooks/data_table.ipynb>data table notebook</a>'\n",
              "            + ' to learn more about interactive tables.';\n",
              "          element.innerHTML = '';\n",
              "          dataTable['output_type'] = 'display_data';\n",
              "          await google.colab.output.renderOutput(dataTable, element);\n",
              "          const docLink = document.createElement('div');\n",
              "          docLink.innerHTML = docLinkHtml;\n",
              "          element.appendChild(docLink);\n",
              "        }\n",
              "      </script>\n",
              "    </div>\n",
              "  </div>\n",
              "  "
            ]
          },
          "metadata": {},
          "execution_count": 15
        }
      ]
    },
    {
      "cell_type": "code",
      "source": [
        "fcbf_wrapper('/content/test.csv', 0.03, ',',False,-1)"
      ],
      "metadata": {
        "colab": {
          "base_uri": "https://localhost:8080/"
        },
        "id": "y_7Z3vR1FKBA",
        "outputId": "a0992cee-dfb6-4e45-9445-f0158ac16be0"
      },
      "execution_count": 19,
      "outputs": [
        {
          "output_type": "stream",
          "name": "stdout",
          "text": [
            "Reading file. Please wait ...\n",
            "Success! Dimensions:  (88, 54676)\n",
            "Performing FCBF selection. Please wait ...\n",
            "X: (88, 54676), y: 88\n",
            "Done!\n",
            "\n",
            "#Features selected: 3\n",
            "Selected feature indices:\n",
            "[[1.00000000e+00 5.46750000e+04]\n",
            " [2.68715508e-01 2.57290000e+04]\n",
            " [2.65946869e-01 0.00000000e+00]]\n",
            "\n",
            "File saved successfully. Path: /content/features_test.csv\n"
          ]
        }
      ]
    },
    {
      "cell_type": "code",
      "source": [
        "fcbf_wrapper('/content/lungcancer.csv', 0.05)"
      ],
      "metadata": {
        "colab": {
          "base_uri": "https://localhost:8080/"
        },
        "id": "ryFyYdm19e12",
        "outputId": "764f35c2-738e-4e52-8a2e-c37d1297aed3"
      },
      "execution_count": 44,
      "outputs": [
        {
          "output_type": "stream",
          "name": "stdout",
          "text": [
            "Reading file. Please wait ...\n",
            "Success! Dimensions:  (31, 57)\n",
            "Performing FCBF selection. Please wait ...\n",
            "X: (31, 57), y: 31\n",
            "Done!\n",
            "\n",
            "#Features selected: 4\n",
            "Selected feature indices:\n",
            "[[ 1.         56.        ]\n",
            " [ 0.18889273 55.        ]\n",
            " [ 0.0631983  10.        ]\n",
            " [ 0.05725075 53.        ]]\n",
            "\n",
            "File saved successfully. Path: /content/features_lungcancer.csv\n"
          ]
        }
      ]
    },
    {
      "cell_type": "code",
      "source": [
        "fcbf_wrapperr('/content/test.csv', 0.25, ',',False,-1)"
      ],
      "metadata": {
        "colab": {
          "base_uri": "https://localhost:8080/"
        },
        "id": "2adO9gQ2ropm",
        "outputId": "5b9270d7-88a2-498a-dd75-85d9d8fae089"
      },
      "execution_count": null,
      "outputs": [
        {
          "output_type": "stream",
          "name": "stdout",
          "text": [
            "Reading file. Please wait ...\n",
            "Success! Dimensions:  (88, 54675)\n",
            "(88, 54675)\n",
            "(88,)\n"
          ]
        }
      ]
    },
    {
      "cell_type": "code",
      "source": [],
      "metadata": {
        "id": "0wGTC-mtW532"
      },
      "execution_count": null,
      "outputs": []
    },
    {
      "cell_type": "code",
      "source": [],
      "metadata": {
        "id": "PK_oqyDWS86z"
      },
      "execution_count": null,
      "outputs": []
    }
  ]
}