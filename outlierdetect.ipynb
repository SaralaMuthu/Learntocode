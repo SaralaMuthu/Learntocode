{
  "cells": [
    {
      "cell_type": "markdown",
      "metadata": {
        "id": "view-in-github",
        "colab_type": "text"
      },
      "source": [
        "<a href=\"https://colab.research.google.com/github/SaralaMuthu/Learntocode/blob/master/outlierdetect.ipynb\" target=\"_parent\"><img src=\"https://colab.research.google.com/assets/colab-badge.svg\" alt=\"Open In Colab\"/></a>"
      ]
    },
    {
      "cell_type": "code",
      "execution_count": 5,
      "metadata": {
        "id": "pEw3XGrmIuD4"
      },
      "outputs": [],
      "source": [
        "import numpy as np\n"
      ]
    },
    {
      "cell_type": "code",
      "execution_count": 8,
      "metadata": {
        "id": "nIDjHqs5JGaO"
      },
      "outputs": [],
      "source": [
        "dataset= [11,10,16,22,14,15,100,17,18,16,18,19,13,108,20,15,16,17,120,500,700]"
      ]
    },
    {
      "cell_type": "code",
      "execution_count": 9,
      "metadata": {
        "id": "bysUbLo9JWBt"
      },
      "outputs": [],
      "source": [
        "outliers= []\n",
        "def detect_outliers(data):\n",
        " \n",
        "  threshold= 3\n",
        "  m= np.mean(data)\n",
        "  print(m)\n",
        "  s= np.std(data)\n",
        " \n",
        "  for i in data:\n",
        "    z_score= (i - m)/s\n",
        "    if np.abs(z_score) > threshold:\n",
        "      outliers.append(i)\n",
        "  return outliers"
      ]
    },
    {
      "cell_type": "code",
      "execution_count": 10,
      "metadata": {
        "colab": {
          "base_uri": "https://localhost:8080/"
        },
        "id": "6i4i5WaQLMSH",
        "outputId": "d89ef38e-e9f1-44ff-a650-ea62f8e10f96"
      },
      "outputs": [
        {
          "output_type": "stream",
          "name": "stdout",
          "text": [
            "85.0\n"
          ]
        },
        {
          "output_type": "execute_result",
          "data": {
            "text/plain": [
              "[700]"
            ]
          },
          "metadata": {},
          "execution_count": 10
        }
      ],
      "source": [
        "outlier_pt= detect_outliers(dataset)\n",
        "outlier_pt"
      ]
    },
    {
      "cell_type": "code",
      "execution_count": null,
      "metadata": {
        "colab": {
          "base_uri": "https://localhost:8080/"
        },
        "id": "_sFSO8syPvON",
        "outputId": "69d92a11-bbf0-4661-9da3-6495914f3c98"
      },
      "outputs": [
        {
          "data": {
            "text/plain": [
              "[11, 10, 16, 22, 14, 15, 100, 17, 18, 16, 18, 19, 13, 108, 20, 15, 16, 17, 120]"
            ]
          },
          "execution_count": 31,
          "metadata": {},
          "output_type": "execute_result"
        }
      ],
      "source": [
        "dataset"
      ]
    },
    {
      "cell_type": "code",
      "execution_count": null,
      "metadata": {
        "colab": {
          "base_uri": "https://localhost:8080/"
        },
        "id": "qqgnhEgRLf-T",
        "outputId": "8aba3dd4-ef50-436c-fcb5-3db729b36aee"
      },
      "outputs": [
        {
          "data": {
            "text/plain": [
              "[]"
            ]
          },
          "execution_count": 25,
          "metadata": {},
          "output_type": "execute_result"
        }
      ],
      "source": []
    }
  ],
  "metadata": {
    "colab": {
      "provenance": [],
      "authorship_tag": "ABX9TyOww6YoqmitbQPTFCSJC0au",
      "include_colab_link": true
    },
    "kernelspec": {
      "display_name": "Python 3",
      "name": "python3"
    },
    "language_info": {
      "name": "python"
    }
  },
  "nbformat": 4,
  "nbformat_minor": 0
}